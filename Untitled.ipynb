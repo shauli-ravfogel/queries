{
 "cells": [
  {
   "cell_type": "code",
   "execution_count": 61,
   "id": "5f1c4b27",
   "metadata": {},
   "outputs": [
    {
     "name": "stdout",
     "output_type": "stream",
     "text": [
      "The autoreload extension is already loaded. To reload it, use:\n",
      "  %reload_ext autoreload\n"
     ]
    }
   ],
   "source": [
    "%load_ext autoreload\n",
    "%autoreload 2\n",
    "import faiss\n",
    "import numpy as np\n",
    "import random\n",
    "import subprocess\n",
    "import tqdm\n",
    "#import pandas as pd\n",
    "from sklearn.metrics import pairwise_distances\n",
    "from sklearn.utils import shuffle\n",
    "import matplotlib.pyplot as plt\n",
    "from sklearn.decomposition import PCA\n",
    "from build_index import index_vectors\n",
    "import sys\n",
    "import seaborn as sn\n",
    "import matplotlib.pyplot as plt\n",
    "from collections import defaultdict\n",
    "from collections import Counter"
   ]
  },
  {
   "cell_type": "code",
   "execution_count": 62,
   "id": "a79d5691",
   "metadata": {},
   "outputs": [],
   "source": [
    "import sys\n",
    "from types import ModuleType, FunctionType\n",
    "from gc import get_referents\n",
    "\n",
    "# Custom objects know their class.\n",
    "# Function objects seem to know way too much, including modules.\n",
    "# Exclude modules as well.\n",
    "BLACKLIST = type, ModuleType, FunctionType\n",
    "\n",
    "\n",
    "def getsize(obj):\n",
    "    \"\"\"sum size of object & members.\"\"\"\n",
    "    if isinstance(obj, BLACKLIST):\n",
    "        raise TypeError('getsize() does not take argument of type: '+ str(type(obj)))\n",
    "    seen_ids = set()\n",
    "    size = 0\n",
    "    objects = [obj]\n",
    "    while objects:\n",
    "        need_referents = []\n",
    "        for obj in objects:\n",
    "            if not isinstance(obj, BLACKLIST) and id(obj) not in seen_ids:\n",
    "                seen_ids.add(id(obj))\n",
    "                size += sys.getsizeof(obj)\n",
    "                need_referents.append(obj)\n",
    "        objects = get_referents(*need_referents)\n",
    "    return size*1e-6"
   ]
  },
  {
   "cell_type": "code",
   "execution_count": 63,
   "id": "4ac3e383",
   "metadata": {},
   "outputs": [
    {
     "name": "stdout",
     "output_type": "stream",
     "text": [
      "Help on function index_vectors in module build_index:\n",
      "\n",
      "index_vectors(similarity_type, dims=None, num_vecs=None, vecs=None)\n",
      "\n"
     ]
    }
   ],
   "source": [
    "help(index_vectors)"
   ]
  },
  {
   "cell_type": "code",
   "execution_count": 210,
   "id": "66be89e4",
   "metadata": {},
   "outputs": [],
   "source": [
    "from sklearn.datasets import fetch_openml\n",
    "X, y = fetch_openml('mnist_784', version=1, return_X_y=True, as_frame=False)\n",
    "random.seed(0)\n",
    "np.random.seed(0)\n",
    "X,y = shuffle(X,y)"
   ]
  },
  {
   "cell_type": "code",
   "execution_count": 135,
   "id": "d574b3b6",
   "metadata": {},
   "outputs": [
    {
     "name": "stdout",
     "output_type": "stream",
     "text": [
      "(20000, 300)\n"
     ]
    }
   ],
   "source": [
    "\n",
    "n = 20000\n",
    "\n",
    "X_sam = X[:n]\n",
    "pca = PCA(n_components=300)\n",
    "X_sam = pca.fit_transform(X_sam)\n",
    "X_sam = np.asarray(X_sam, order = \"C\")\n",
    "Y_train = y[:n]\n",
    "\n",
    "X_test = X[n:2*n]\n",
    "Y_test = y[n:2*n]\n",
    "X_test =pca.transform(X_test)\n",
    "X_test = np.asarray(X_test, order = \"C\")\n",
    "\n",
    "print(X_sam.shape)\n",
    "index1 = index_vectors(\"old\", dims=X_sam.shape[1], num_vecs=n,vecs=X_sam)\n",
    "index2 = index_vectors(\"ivfi\", dims=X_sam.shape[1], num_vecs=n,vecs=X_sam)\n",
    "dists = pairwise_distances(X_test, X_sam)\n",
    "dists_sorted_idx = np.argsort(dists, axis = 1)"
   ]
  },
  {
   "cell_type": "code",
   "execution_count": 136,
   "id": "fe178b31",
   "metadata": {},
   "outputs": [
    {
     "name": "stderr",
     "output_type": "stream",
     "text": [
      "/home/shauli/anaconda3/envs/py3/lib/python3.7/site-packages/ipykernel_launcher.py:8: TqdmDeprecationWarning: This function will be removed in tqdm==5.0.0\n",
      "Please use `tqdm.notebook.tqdm` instead of `tqdm.tqdm_notebook`\n",
      "  \n"
     ]
    },
    {
     "data": {
      "application/vnd.jupyter.widget-view+json": {
       "model_id": "dcf43ce36717458a9a3434bd72accf06",
       "version_major": 2,
       "version_minor": 0
      },
      "text/plain": [
       "0it [00:00, ?it/s]"
      ]
     },
     "metadata": {},
     "output_type": "display_data"
    }
   ],
   "source": [
    "#dists_pred1, idx_pred1 = index1.search(np.array(vecs1).astype(\"float32\"),k=1)\n",
    "\n",
    "def get_closest_neigh_idx(index, vec):\n",
    "    return index.query(np.array([vec]).astype(\"float32\"), k=300)\n",
    "\n",
    "neighbors = []\n",
    "\n",
    "for i,v in tqdm.tqdm_notebook(enumerate(X_test)):\n",
    "    idx1 = get_closest_neigh_idx(index1, v)\n",
    "    idx2 = get_closest_neigh_idx(index2, v)\n",
    "    dists_v_sorted = dists[i][dists_sorted_idx[i]]\n",
    "    idx_v_sorted = dists_sorted_idx[i].tolist()\n",
    "    d = {\"ind\": i, \"closest_true\": idx_v_sorted[0], \"closest_pred\": idx2[0], \"all_pred\": idx2, \"all_true\": idx_v_sorted[:len(idx2)]}\n",
    "    neighbors.append(d)"
   ]
  },
  {
   "cell_type": "code",
   "execution_count": 137,
   "id": "5d793646",
   "metadata": {},
   "outputs": [],
   "source": [
    "import pickle\n",
    "with open(\"neighbors.pca.train.test.pickle\", \"wb\") as f:\n",
    "    pickle.dump((neighbors, pca, X_sam, X_test), f)\n",
    "    \n",
    "with open(\"neighbors.pca.train.test.pickle\", \"rb\") as f:\n",
    "    neighbors, pca, X_sam, X_test = pickle.load(f)"
   ]
  },
  {
   "cell_type": "code",
   "execution_count": 138,
   "id": "f108c040",
   "metadata": {},
   "outputs": [
    {
     "data": {
      "text/plain": [
       "<matplotlib.image.AxesImage at 0x7f83725c3b90>"
      ]
     },
     "execution_count": 138,
     "metadata": {},
     "output_type": "execute_result"
    },
    {
     "data": {
      "image/png": "[encoded data removed]",
      "text/plain": [
       "<Figure size 432x288 with 1 Axes>"
      ]
     },
     "metadata": {
      "needs_background": "light"
     },
     "output_type": "display_data"
    }
   ],
   "source": [
    "i = 7\n",
    "d = neighbors[i]\n",
    "orig,true,rec = X_test[d[\"ind\"]], X_sam[d[\"closest_true\"]], X_sam[d[\"closest_pred\"]]\n",
    "plt.imshow(pca.inverse_transform(orig).reshape(28,28), cmap = \"gray\")"
   ]
  },
  {
   "cell_type": "code",
   "execution_count": 139,
   "id": "96db5d11",
   "metadata": {},
   "outputs": [
    {
     "data": {
      "text/plain": [
       "<matplotlib.image.AxesImage at 0x7f830cdb1090>"
      ]
     },
     "execution_count": 139,
     "metadata": {},
     "output_type": "execute_result"
    },
    {
     "data": {
      "image/png": "[encoded data removed]",
      "text/plain": [
       "<Figure size 432x288 with 1 Axes>"
      ]
     },
     "metadata": {
      "needs_background": "light"
     },
     "output_type": "display_data"
    }
   ],
   "source": [
    "plt.imshow(pca.inverse_transform(true).reshape(28,28), cmap = \"gray\")"
   ]
  },
  {
   "cell_type": "code",
   "execution_count": 140,
   "id": "c747ee6e",
   "metadata": {},
   "outputs": [
    {
     "data": {
      "text/plain": [
       "<matplotlib.image.AxesImage at 0x7f83724b7250>"
      ]
     },
     "execution_count": 140,
     "metadata": {},
     "output_type": "execute_result"
    },
    {
     "data": {
      "image/png": "[encoded data removed]",
      "text/plain": [
       "<Figure size 432x288 with 1 Axes>"
      ]
     },
     "metadata": {
      "needs_background": "light"
     },
     "output_type": "display_data"
    }
   ],
   "source": [
    "plt.imshow(pca.inverse_transform(rec).reshape(28,28), cmap = \"gray\")"
   ]
  },
  {
   "cell_type": "code",
   "execution_count": 141,
   "id": "47a52650",
   "metadata": {},
   "outputs": [],
   "source": [
    "def dist(v1,v2): return np.sqrt(((v1-v2)**2).sum())"
   ]
  },
  {
   "cell_type": "code",
   "execution_count": 142,
   "id": "058aa35a",
   "metadata": {},
   "outputs": [],
   "source": [
    "dists_true = [dist(X_sam[d[\"closest_true\"]], X_test[i]) for i,d in enumerate(neighbors)]\n",
    "dists_pred = [dist(X_sam[d[\"closest_pred\"]], X_test[i]) for i,d in enumerate(neighbors)]"
   ]
  },
  {
   "cell_type": "code",
   "execution_count": 143,
   "id": "10365321",
   "metadata": {},
   "outputs": [
    {
     "data": {
      "text/plain": [
       "24.000923999999998"
      ]
     },
     "execution_count": 143,
     "metadata": {},
     "output_type": "execute_result"
    }
   ],
   "source": [
    "getsize(index2)"
   ]
  },
  {
   "cell_type": "code",
   "execution_count": null,
   "id": "24ffd02d",
   "metadata": {},
   "outputs": [],
   "source": []
  },
  {
   "cell_type": "code",
   "execution_count": null,
   "id": "673ac464",
   "metadata": {},
   "outputs": [],
   "source": []
  },
  {
   "cell_type": "code",
   "execution_count": 144,
   "id": "809be96d",
   "metadata": {},
   "outputs": [
    {
     "data": {
      "text/plain": [
       "1200"
      ]
     },
     "execution_count": 144,
     "metadata": {},
     "output_type": "execute_result"
    }
   ],
   "source": [
    "12*100"
   ]
  },
  {
   "cell_type": "code",
   "execution_count": 145,
   "id": "9cece977",
   "metadata": {},
   "outputs": [
    {
     "name": "stderr",
     "output_type": "stream",
     "text": [
      "/home/shauli/anaconda3/envs/py3/lib/python3.7/site-packages/seaborn/_decorators.py:43: FutureWarning: Pass the following variables as keyword args: x, y. From version 0.12, the only valid positional argument will be `data`, and passing other arguments without an explicit keyword will result in an error or misinterpretation.\n",
      "  FutureWarning\n"
     ]
    },
    {
     "data": {
      "image/png": "[encoded data removed]",
      "text/plain": [
       "<Figure size 432x288 with 1 Axes>"
      ]
     },
     "metadata": {
      "needs_background": "light"
     },
     "output_type": "display_data"
    }
   ],
   "source": [
    "ax = sn.lineplot(dists_pred, dists_true, linestyle='', marker = \"o\", alpha = 0.5)\n",
    "ax.set(xlabel='Distance to retrieved nearest neighbor', ylabel='Distance to true nearest neighbor')\n",
    "ax.figure.savefig(\"dists_true_vs_retrieved.png\", dpi = 300)"
   ]
  },
  {
   "cell_type": "code",
   "execution_count": 154,
   "id": "3234ec12",
   "metadata": {},
   "outputs": [],
   "source": [
    "index_of_true_closest_neighbor = []\n",
    "for i,d in enumerate(neighbors):\n",
    "    retrieved = d[\"all_pred\"]\n",
    "    true = d[\"closest_true\"]\n",
    "    ind = -1 if true not in retrieved else retrieved.tolist().index(true)\n",
    "    index_of_true_closest_neighbor.append(ind)\n",
    "    \n",
    "index_of_retrieved_closest_neighbor = []\n",
    "for i,d in enumerate(neighbors):\n",
    "    retrieved = d[\"all_pred\"][0]\n",
    "    true = d[\"all_true\"]\n",
    "    ind = -1 if retrieved not in true else true.index(retrieved)\n",
    "    index_of_retrieved_closest_neighbor.append(ind)\n",
    "    "
   ]
  },
  {
   "cell_type": "code",
   "execution_count": 165,
   "id": "eb040cbe",
   "metadata": {},
   "outputs": [
    {
     "data": {
      "image/png": "[encoded data removed]",
      "text/plain": [
       "<Figure size 432x288 with 1 Axes>"
      ]
     },
     "metadata": {
      "needs_background": "light"
     },
     "output_type": "display_data"
    }
   ],
   "source": [
    "ax = sn.histplot(np.array(index_of_true_closest_neighbor[:]))\n",
    "ax.set(xlabel=\"index of true closest neighbor among retrieved closest neighbors\")\n",
    "ax.figure.savefig(\"index_of_true_among_retrieved.png\", dpi = 300)"
   ]
  },
  {
   "cell_type": "code",
   "execution_count": 173,
   "id": "1ddd75da",
   "metadata": {},
   "outputs": [
    {
     "data": {
      "image/png": "[encoded data removed]",
      "text/plain": [
       "<Figure size 432x288 with 1 Axes>"
      ]
     },
     "metadata": {
      "needs_background": "light"
     },
     "output_type": "display_data"
    }
   ],
   "source": [
    "ax = sn.histplot(np.array(index_of_retrieved_closest_neighbor[:]),bins=50)\n",
    "ax.set(xlabel=\"index of retrieved closest neighbor among true closest neighbors\")\n",
    "ax.figure.savefig(\"index_of_retrieved_among_true.png\", dpi = 300)"
   ]
  },
  {
   "cell_type": "code",
   "execution_count": 174,
   "id": "f79b3935",
   "metadata": {},
   "outputs": [
    {
     "data": {
      "text/plain": [
       "Counter({5: 213,\n",
       "         2: 1099,\n",
       "         1: 2660,\n",
       "         12: 36,\n",
       "         3: 538,\n",
       "         15: 19,\n",
       "         4: 313,\n",
       "         6: 142,\n",
       "         9: 52,\n",
       "         16: 28,\n",
       "         8: 72,\n",
       "         11: 41,\n",
       "         24: 3,\n",
       "         14: 22,\n",
       "         93: 1,\n",
       "         7: 95,\n",
       "         18: 10,\n",
       "         37: 2,\n",
       "         10: 54,\n",
       "         29: 1,\n",
       "         13: 23,\n",
       "         19: 8,\n",
       "         26: 3,\n",
       "         48: 1,\n",
       "         27: 3,\n",
       "         20: 7,\n",
       "         35: 2,\n",
       "         75: 1,\n",
       "         39: 4,\n",
       "         21: 7,\n",
       "         23: 6,\n",
       "         45: 2,\n",
       "         124: 1,\n",
       "         43: 1,\n",
       "         123: 1,\n",
       "         40: 2,\n",
       "         17: 17,\n",
       "         28: 4,\n",
       "         67: 1,\n",
       "         36: 2,\n",
       "         30: 2,\n",
       "         100: 1,\n",
       "         25: 5,\n",
       "         22: 8,\n",
       "         31: 3,\n",
       "         57: 3,\n",
       "         55: 1,\n",
       "         32: 3,\n",
       "         51: 2,\n",
       "         86: 1,\n",
       "         34: 1,\n",
       "         42: 1,\n",
       "         56: 1,\n",
       "         44: 1,\n",
       "         38: 1,\n",
       "         -1: 1})"
      ]
     },
     "execution_count": 174,
     "metadata": {},
     "output_type": "execute_result"
    },
    {
     "data": {
      "image/png": "[encoded data removed]",
      "text/plain": [
       "<Figure size 432x288 with 1 Axes>"
      ]
     },
     "metadata": {
      "needs_background": "light"
     },
     "output_type": "display_data"
    }
   ],
   "source": [
    "remaining = [x for x in index_of_retrieved_closest_neighbor if x != 0]\n",
    "ax = sn.histplot(np.array(remaining[:]),bins=50)\n",
    "Counter(remaining)"
   ]
  },
  {
   "cell_type": "code",
   "execution_count": 148,
   "id": "0effcfdd",
   "metadata": {},
   "outputs": [
    {
     "name": "stderr",
     "output_type": "stream",
     "text": [
      "/home/shauli/anaconda3/envs/py3/lib/python3.7/site-packages/ipykernel_launcher.py:5: TqdmDeprecationWarning: This function will be removed in tqdm==5.0.0\n",
      "Please use `tqdm.notebook.tqdm` instead of `tqdm.tqdm_notebook`\n",
      "  \"\"\"\n"
     ]
    },
    {
     "data": {
      "application/vnd.jupyter.widget-view+json": {
       "model_id": "74d49cdf1bd3442faf12d5502cfcc8ab",
       "version_major": 2,
       "version_minor": 0
      },
      "text/plain": [
       "0it [00:00, ?it/s]"
      ]
     },
     "metadata": {},
     "output_type": "display_data"
    }
   ],
   "source": [
    "is_same_digit = defaultdict(list)\n",
    "for digit in range(10):\n",
    "    is_same_digit[str(digit)] = defaultdict(Counter)\n",
    "    \n",
    "for i,d in tqdm.tqdm_notebook(enumerate(neighbors)):\n",
    "    for j, ind in enumerate(d[\"all_true\"]):\n",
    "        if Y_test[i] == Y_train[ind]:\n",
    "            is_same_digit[Y_test[i]][j][\"true\"] += 1\n",
    "        else:\n",
    "            is_same_digit[Y_test[i]][j][\"false\"] += 1"
   ]
  },
  {
   "cell_type": "code",
   "execution_count": 149,
   "id": "64697580",
   "metadata": {},
   "outputs": [
    {
     "data": {
      "text/plain": [
       "defaultdict(collections.Counter,\n",
       "            {0: Counter({'true': 2195, 'false': 15}),\n",
       "             1: Counter({'true': 2189, 'false': 21}),\n",
       "             2: Counter({'true': 2191, 'false': 19}),\n",
       "             3: Counter({'true': 2187, 'false': 23}),\n",
       "             4: Counter({'true': 2187, 'false': 23}),\n",
       "             5: Counter({'true': 2190, 'false': 20}),\n",
       "             6: Counter({'true': 2190, 'false': 20}),\n",
       "             7: Counter({'true': 2188, 'false': 22}),\n",
       "             8: Counter({'true': 2187, 'false': 23}),\n",
       "             9: Counter({'true': 2192, 'false': 18}),\n",
       "             10: Counter({'true': 2193, 'false': 17}),\n",
       "             11: Counter({'true': 2185, 'false': 25}),\n",
       "             12: Counter({'true': 2188, 'false': 22}),\n",
       "             13: Counter({'true': 2191, 'false': 19}),\n",
       "             14: Counter({'true': 2184, 'false': 26}),\n",
       "             15: Counter({'true': 2188, 'false': 22}),\n",
       "             16: Counter({'true': 2187, 'false': 23}),\n",
       "             17: Counter({'true': 2184, 'false': 26}),\n",
       "             18: Counter({'true': 2186, 'false': 24}),\n",
       "             19: Counter({'true': 2188, 'false': 22}),\n",
       "             20: Counter({'true': 2186, 'false': 24}),\n",
       "             21: Counter({'true': 2187, 'false': 23}),\n",
       "             22: Counter({'true': 2190, 'false': 20}),\n",
       "             23: Counter({'true': 2188, 'false': 22}),\n",
       "             24: Counter({'true': 2188, 'false': 22}),\n",
       "             25: Counter({'true': 2188, 'false': 22}),\n",
       "             26: Counter({'true': 2191, 'false': 19}),\n",
       "             27: Counter({'true': 2190, 'false': 20}),\n",
       "             28: Counter({'true': 2188, 'false': 22}),\n",
       "             29: Counter({'true': 2184, 'false': 26}),\n",
       "             30: Counter({'true': 2187, 'false': 23}),\n",
       "             31: Counter({'true': 2190, 'false': 20}),\n",
       "             32: Counter({'true': 2185, 'false': 25}),\n",
       "             33: Counter({'true': 2184, 'false': 26}),\n",
       "             34: Counter({'true': 2190, 'false': 20}),\n",
       "             35: Counter({'true': 2182, 'false': 28}),\n",
       "             36: Counter({'true': 2189, 'false': 21}),\n",
       "             37: Counter({'true': 2191, 'false': 19}),\n",
       "             38: Counter({'true': 2190, 'false': 20}),\n",
       "             39: Counter({'true': 2188, 'false': 22}),\n",
       "             40: Counter({'true': 2188, 'false': 22}),\n",
       "             41: Counter({'true': 2188, 'false': 22}),\n",
       "             42: Counter({'true': 2190, 'false': 20}),\n",
       "             43: Counter({'true': 2186, 'false': 24}),\n",
       "             44: Counter({'true': 2186, 'false': 24}),\n",
       "             45: Counter({'true': 2186, 'false': 24}),\n",
       "             46: Counter({'true': 2189, 'false': 21}),\n",
       "             47: Counter({'true': 2188, 'false': 22}),\n",
       "             48: Counter({'true': 2193, 'false': 17}),\n",
       "             49: Counter({'true': 2183, 'false': 27}),\n",
       "             50: Counter({'true': 2186, 'false': 24}),\n",
       "             51: Counter({'true': 2184, 'false': 26}),\n",
       "             52: Counter({'true': 2191, 'false': 19}),\n",
       "             53: Counter({'true': 2191, 'false': 19}),\n",
       "             54: Counter({'true': 2190, 'false': 20}),\n",
       "             55: Counter({'true': 2189, 'false': 21}),\n",
       "             56: Counter({'true': 2188, 'false': 22}),\n",
       "             57: Counter({'true': 2189, 'false': 21}),\n",
       "             58: Counter({'true': 2179, 'false': 31}),\n",
       "             59: Counter({'true': 2191, 'false': 19}),\n",
       "             60: Counter({'true': 2177, 'false': 33}),\n",
       "             61: Counter({'true': 2189, 'false': 21}),\n",
       "             62: Counter({'true': 2186, 'false': 24}),\n",
       "             63: Counter({'true': 2193, 'false': 17}),\n",
       "             64: Counter({'true': 2186, 'false': 24}),\n",
       "             65: Counter({'true': 2187, 'false': 23}),\n",
       "             66: Counter({'true': 2189, 'false': 21}),\n",
       "             67: Counter({'true': 2189, 'false': 21}),\n",
       "             68: Counter({'true': 2187, 'false': 23}),\n",
       "             69: Counter({'true': 2193, 'false': 17}),\n",
       "             70: Counter({'true': 2185, 'false': 25}),\n",
       "             71: Counter({'true': 2189, 'false': 21}),\n",
       "             72: Counter({'true': 2188, 'false': 22}),\n",
       "             73: Counter({'true': 2185, 'false': 25}),\n",
       "             74: Counter({'true': 2190, 'false': 20}),\n",
       "             75: Counter({'true': 2187, 'false': 23}),\n",
       "             76: Counter({'true': 2186, 'false': 24}),\n",
       "             77: Counter({'true': 2189, 'false': 21}),\n",
       "             78: Counter({'true': 2192, 'false': 18}),\n",
       "             79: Counter({'true': 2186, 'false': 24}),\n",
       "             80: Counter({'true': 2189, 'false': 21}),\n",
       "             81: Counter({'true': 2188, 'false': 22}),\n",
       "             82: Counter({'true': 2186, 'false': 24}),\n",
       "             83: Counter({'true': 2190, 'false': 20}),\n",
       "             84: Counter({'true': 2187, 'false': 23}),\n",
       "             85: Counter({'true': 2186, 'false': 24}),\n",
       "             86: Counter({'true': 2184, 'false': 26}),\n",
       "             87: Counter({'true': 2184, 'false': 26}),\n",
       "             88: Counter({'true': 2190, 'false': 20}),\n",
       "             89: Counter({'true': 2182, 'false': 28}),\n",
       "             90: Counter({'true': 2186, 'false': 24}),\n",
       "             91: Counter({'true': 2184, 'false': 26}),\n",
       "             92: Counter({'true': 2188, 'false': 22}),\n",
       "             93: Counter({'true': 2180, 'false': 30}),\n",
       "             94: Counter({'true': 2182, 'false': 28}),\n",
       "             95: Counter({'true': 2188, 'false': 22}),\n",
       "             96: Counter({'true': 2190, 'false': 20}),\n",
       "             97: Counter({'true': 2180, 'false': 30}),\n",
       "             98: Counter({'true': 2186, 'false': 24}),\n",
       "             99: Counter({'true': 2181, 'false': 29}),\n",
       "             100: Counter({'true': 2186, 'false': 24}),\n",
       "             101: Counter({'true': 2189, 'false': 21}),\n",
       "             102: Counter({'true': 2184, 'false': 26}),\n",
       "             103: Counter({'true': 2182, 'false': 28}),\n",
       "             104: Counter({'true': 2191, 'false': 19}),\n",
       "             105: Counter({'true': 2177, 'false': 33}),\n",
       "             106: Counter({'true': 2184, 'false': 26}),\n",
       "             107: Counter({'true': 2191, 'false': 19}),\n",
       "             108: Counter({'true': 2190, 'false': 20}),\n",
       "             109: Counter({'true': 2190, 'false': 20}),\n",
       "             110: Counter({'true': 2185, 'false': 25}),\n",
       "             111: Counter({'true': 2190, 'false': 20}),\n",
       "             112: Counter({'true': 2181, 'false': 29}),\n",
       "             113: Counter({'true': 2186, 'false': 24}),\n",
       "             114: Counter({'true': 2183, 'false': 27}),\n",
       "             115: Counter({'true': 2183, 'false': 27}),\n",
       "             116: Counter({'true': 2184, 'false': 26}),\n",
       "             117: Counter({'true': 2184, 'false': 26}),\n",
       "             118: Counter({'true': 2180, 'false': 30}),\n",
       "             119: Counter({'true': 2185, 'false': 25}),\n",
       "             120: Counter({'true': 2182, 'false': 28}),\n",
       "             121: Counter({'true': 2190, 'false': 20}),\n",
       "             122: Counter({'true': 2185, 'false': 25}),\n",
       "             123: Counter({'true': 2182, 'false': 28}),\n",
       "             124: Counter({'true': 2181, 'false': 29}),\n",
       "             125: Counter({'true': 2187, 'false': 23}),\n",
       "             126: Counter({'true': 2184, 'false': 26}),\n",
       "             127: Counter({'true': 2180, 'false': 30}),\n",
       "             128: Counter({'true': 2182, 'false': 28}),\n",
       "             129: Counter({'true': 2179, 'false': 31}),\n",
       "             130: Counter({'true': 2184, 'false': 26}),\n",
       "             131: Counter({'true': 2186, 'false': 24}),\n",
       "             132: Counter({'true': 2183, 'false': 27}),\n",
       "             133: Counter({'true': 2186, 'false': 24}),\n",
       "             134: Counter({'true': 2188, 'false': 22}),\n",
       "             135: Counter({'true': 2183, 'false': 27}),\n",
       "             136: Counter({'true': 2190, 'false': 20}),\n",
       "             137: Counter({'true': 2184, 'false': 26}),\n",
       "             138: Counter({'true': 2181, 'false': 29}),\n",
       "             139: Counter({'true': 2183, 'false': 27}),\n",
       "             140: Counter({'true': 2185, 'false': 25}),\n",
       "             141: Counter({'true': 2181, 'false': 29}),\n",
       "             142: Counter({'true': 2183, 'false': 27}),\n",
       "             143: Counter({'true': 2184, 'false': 26}),\n",
       "             144: Counter({'true': 2184, 'false': 26}),\n",
       "             145: Counter({'true': 2182, 'false': 28}),\n",
       "             146: Counter({'true': 2183, 'false': 27}),\n",
       "             147: Counter({'true': 2175, 'false': 35}),\n",
       "             148: Counter({'true': 2182, 'false': 28}),\n",
       "             149: Counter({'true': 2184, 'false': 26}),\n",
       "             150: Counter({'true': 2185, 'false': 25}),\n",
       "             151: Counter({'true': 2172, 'false': 38}),\n",
       "             152: Counter({'true': 2184, 'false': 26}),\n",
       "             153: Counter({'true': 2176, 'false': 34}),\n",
       "             154: Counter({'true': 2181, 'false': 29}),\n",
       "             155: Counter({'true': 2181, 'false': 29}),\n",
       "             156: Counter({'true': 2181, 'false': 29}),\n",
       "             157: Counter({'true': 2178, 'false': 32}),\n",
       "             158: Counter({'true': 2184, 'false': 26}),\n",
       "             159: Counter({'true': 2177, 'false': 33}),\n",
       "             160: Counter({'true': 2176, 'false': 34}),\n",
       "             161: Counter({'true': 2182, 'false': 28}),\n",
       "             162: Counter({'true': 2184, 'false': 26}),\n",
       "             163: Counter({'true': 2176, 'false': 34}),\n",
       "             164: Counter({'true': 2181, 'false': 29}),\n",
       "             165: Counter({'true': 2178, 'false': 32}),\n",
       "             166: Counter({'true': 2177, 'false': 33}),\n",
       "             167: Counter({'true': 2177, 'false': 33}),\n",
       "             168: Counter({'true': 2187, 'false': 23}),\n",
       "             169: Counter({'true': 2176, 'false': 34}),\n",
       "             170: Counter({'true': 2185, 'false': 25}),\n",
       "             171: Counter({'true': 2175, 'false': 35}),\n",
       "             172: Counter({'true': 2182, 'false': 28}),\n",
       "             173: Counter({'true': 2177, 'false': 33}),\n",
       "             174: Counter({'true': 2176, 'false': 34}),\n",
       "             175: Counter({'true': 2181, 'false': 29}),\n",
       "             176: Counter({'true': 2178, 'false': 32}),\n",
       "             177: Counter({'true': 2184, 'false': 26}),\n",
       "             178: Counter({'true': 2181, 'false': 29}),\n",
       "             179: Counter({'true': 2179, 'false': 31}),\n",
       "             180: Counter({'true': 2171, 'false': 39}),\n",
       "             181: Counter({'true': 2169, 'false': 41}),\n",
       "             182: Counter({'true': 2187, 'false': 23}),\n",
       "             183: Counter({'true': 2169, 'false': 41}),\n",
       "             184: Counter({'true': 2183, 'false': 27}),\n",
       "             185: Counter({'true': 2185, 'false': 25}),\n",
       "             186: Counter({'true': 2177, 'false': 33}),\n",
       "             187: Counter({'true': 2172, 'false': 38}),\n",
       "             188: Counter({'true': 2176, 'false': 34}),\n",
       "             189: Counter({'true': 2183, 'false': 27}),\n",
       "             190: Counter({'true': 2177, 'false': 33}),\n",
       "             191: Counter({'true': 2182, 'false': 28}),\n",
       "             192: Counter({'true': 2181, 'false': 29}),\n",
       "             193: Counter({'true': 2177, 'false': 33}),\n",
       "             194: Counter({'true': 2171, 'false': 39}),\n",
       "             195: Counter({'true': 2181, 'false': 29}),\n",
       "             196: Counter({'true': 2185, 'false': 25}),\n",
       "             197: Counter({'true': 2177, 'false': 33}),\n",
       "             198: Counter({'true': 2172, 'false': 38}),\n",
       "             199: Counter({'true': 2172, 'false': 38}),\n",
       "             200: Counter({'true': 2174, 'false': 36}),\n",
       "             201: Counter({'true': 2177, 'false': 33}),\n",
       "             202: Counter({'true': 2173, 'false': 37}),\n",
       "             203: Counter({'true': 2171, 'false': 39}),\n",
       "             204: Counter({'true': 2176, 'false': 34}),\n",
       "             205: Counter({'true': 2172, 'false': 38}),\n",
       "             206: Counter({'true': 2176, 'false': 34}),\n",
       "             207: Counter({'true': 2169, 'false': 41}),\n",
       "             208: Counter({'true': 2168, 'false': 42}),\n",
       "             209: Counter({'true': 2173, 'false': 37}),\n",
       "             210: Counter({'true': 2171, 'false': 39}),\n",
       "             211: Counter({'true': 2176, 'false': 34}),\n",
       "             212: Counter({'true': 2174, 'false': 36}),\n",
       "             213: Counter({'true': 2178, 'false': 32}),\n",
       "             214: Counter({'true': 2172, 'false': 38}),\n",
       "             215: Counter({'true': 2171, 'false': 39}),\n",
       "             216: Counter({'true': 2175, 'false': 35}),\n",
       "             217: Counter({'true': 2172, 'false': 38}),\n",
       "             218: Counter({'true': 2174, 'false': 36}),\n",
       "             219: Counter({'true': 2178, 'false': 32}),\n",
       "             220: Counter({'true': 2166, 'false': 44}),\n",
       "             221: Counter({'true': 2176, 'false': 34}),\n",
       "             222: Counter({'true': 2181, 'false': 29}),\n",
       "             223: Counter({'true': 2165, 'false': 45}),\n",
       "             224: Counter({'true': 2172, 'false': 38}),\n",
       "             225: Counter({'true': 2169, 'false': 41}),\n",
       "             226: Counter({'true': 2175, 'false': 35}),\n",
       "             227: Counter({'true': 2171, 'false': 39}),\n",
       "             228: Counter({'true': 2173, 'false': 37}),\n",
       "             229: Counter({'true': 2177, 'false': 33}),\n",
       "             230: Counter({'true': 2168, 'false': 42}),\n",
       "             231: Counter({'true': 2169, 'false': 41}),\n",
       "             232: Counter({'true': 2176, 'false': 34}),\n",
       "             233: Counter({'true': 2164, 'false': 46}),\n",
       "             234: Counter({'true': 2165, 'false': 45}),\n",
       "             235: Counter({'true': 2174, 'false': 36}),\n",
       "             236: Counter({'true': 2164, 'false': 46}),\n",
       "             237: Counter({'true': 2180, 'false': 30}),\n",
       "             238: Counter({'true': 2167, 'false': 43}),\n",
       "             239: Counter({'true': 2171, 'false': 39}),\n",
       "             240: Counter({'true': 2170, 'false': 40}),\n",
       "             241: Counter({'true': 2161, 'false': 49}),\n",
       "             242: Counter({'true': 2174, 'false': 36}),\n",
       "             243: Counter({'true': 2174, 'false': 36}),\n",
       "             244: Counter({'true': 2168, 'false': 42}),\n",
       "             245: Counter({'true': 2165, 'false': 45}),\n",
       "             246: Counter({'true': 2170, 'false': 40}),\n",
       "             247: Counter({'true': 2176, 'false': 34}),\n",
       "             248: Counter({'true': 2166, 'false': 44}),\n",
       "             249: Counter({'true': 2167, 'false': 43}),\n",
       "             250: Counter({'true': 2168, 'false': 42}),\n",
       "             251: Counter({'true': 2161, 'false': 49}),\n",
       "             252: Counter({'true': 2166, 'false': 44}),\n",
       "             253: Counter({'true': 2168, 'false': 42}),\n",
       "             254: Counter({'true': 2167, 'false': 43}),\n",
       "             255: Counter({'true': 2166, 'false': 44}),\n",
       "             256: Counter({'true': 2166, 'false': 44}),\n",
       "             257: Counter({'true': 2172, 'false': 38}),\n",
       "             258: Counter({'true': 2166, 'false': 44}),\n",
       "             259: Counter({'true': 2171, 'false': 39}),\n",
       "             260: Counter({'true': 2157, 'false': 53}),\n",
       "             261: Counter({'true': 2169, 'false': 41}),\n",
       "             262: Counter({'true': 2169, 'false': 41}),\n",
       "             263: Counter({'true': 2162, 'false': 48}),\n",
       "             264: Counter({'true': 2164, 'false': 46}),\n",
       "             265: Counter({'true': 2162, 'false': 48}),\n",
       "             266: Counter({'true': 2168, 'false': 42}),\n",
       "             267: Counter({'true': 2158, 'false': 52}),\n",
       "             268: Counter({'true': 2161, 'false': 49}),\n",
       "             269: Counter({'true': 2166, 'false': 44}),\n",
       "             270: Counter({'true': 2168, 'false': 42}),\n",
       "             271: Counter({'true': 2164, 'false': 46}),\n",
       "             272: Counter({'true': 2159, 'false': 51}),\n",
       "             273: Counter({'true': 2166, 'false': 44}),\n",
       "             274: Counter({'true': 2173, 'false': 37}),\n",
       "             275: Counter({'true': 2170, 'false': 40}),\n",
       "             276: Counter({'true': 2150, 'false': 60}),\n",
       "             277: Counter({'true': 2162, 'false': 48}),\n",
       "             278: Counter({'true': 2164, 'false': 46}),\n",
       "             279: Counter({'true': 2161, 'false': 49}),\n",
       "             280: Counter({'true': 2156, 'false': 54}),\n",
       "             281: Counter({'true': 2153, 'false': 57}),\n",
       "             282: Counter({'true': 2174, 'false': 36}),\n",
       "             283: Counter({'true': 2156, 'false': 54}),\n",
       "             284: Counter({'true': 2168, 'false': 42}),\n",
       "             285: Counter({'true': 2170, 'false': 40}),\n",
       "             286: Counter({'true': 2157, 'false': 53}),\n",
       "             287: Counter({'true': 2152, 'false': 58}),\n",
       "             288: Counter({'true': 2161, 'false': 49}),\n",
       "             289: Counter({'true': 2160, 'false': 50}),\n",
       "             290: Counter({'true': 2174, 'false': 36}),\n",
       "             291: Counter({'true': 2157, 'false': 53}),\n",
       "             292: Counter({'true': 2161, 'false': 49}),\n",
       "             293: Counter({'true': 2160, 'false': 50}),\n",
       "             294: Counter({'true': 2155, 'false': 55}),\n",
       "             295: Counter({'true': 2167, 'false': 43}),\n",
       "             296: Counter({'true': 2161, 'false': 49}),\n",
       "             297: Counter({'true': 2166, 'false': 44}),\n",
       "             298: Counter({'true': 2163, 'false': 47}),\n",
       "             299: Counter({'true': 2168, 'false': 42})})"
      ]
     },
     "execution_count": 149,
     "metadata": {},
     "output_type": "execute_result"
    }
   ],
   "source": [
    "is_same_digit[\"1\"]"
   ]
  },
  {
   "cell_type": "code",
   "execution_count": 150,
   "id": "f53813db",
   "metadata": {},
   "outputs": [],
   "source": [
    "import copy\n",
    "digit2ind2rate = copy.deepcopy(is_same_digit)\n",
    "\n",
    "for digit in is_same_digit.keys():\n",
    "    for i in  is_same_digit[digit].keys():\n",
    "        digit2ind2rate[digit][i] = is_same_digit[digit][i][\"true\"]/(is_same_digit[digit][i][\"true\"] + is_same_digit[digit][i][\"false\"])"
   ]
  },
  {
   "cell_type": "code",
   "execution_count": 151,
   "id": "4a707122",
   "metadata": {},
   "outputs": [],
   "source": [
    "means2 = np.zeros((10, 300))\n",
    "for digit in digit2ind2rate.keys():\n",
    "    for i in range(300):\n",
    "        means2[int(digit)][int(i)] = digit2ind2rate[digit][i]\n",
    "means2 = np.mean(means2, axis = 0)"
   ]
  },
  {
   "cell_type": "code",
   "execution_count": 152,
   "id": "dd6e044c",
   "metadata": {},
   "outputs": [
    {
     "name": "stderr",
     "output_type": "stream",
     "text": [
      "/home/shauli/anaconda3/envs/py3/lib/python3.7/site-packages/seaborn/_decorators.py:43: FutureWarning: Pass the following variables as keyword args: x, y. From version 0.12, the only valid positional argument will be `data`, and passing other arguments without an explicit keyword will result in an error or misinterpretation.\n",
      "  FutureWarning\n",
      "/home/shauli/anaconda3/envs/py3/lib/python3.7/site-packages/seaborn/_decorators.py:43: FutureWarning: Pass the following variables as keyword args: x, y. From version 0.12, the only valid positional argument will be `data`, and passing other arguments without an explicit keyword will result in an error or misinterpretation.\n",
      "  FutureWarning\n"
     ]
    },
    {
     "data": {
      "image/png": "[encoded data removed]",
      "text/plain": [
       "<Figure size 432x288 with 1 Axes>"
      ]
     },
     "metadata": {
      "needs_background": "light"
     },
     "output_type": "display_data"
    }
   ],
   "source": [
    "ax = sn.lineplot(range(300), means, linestyle='', marker = \"o\", alpha = 0.5, label = \"approximate search\")\n",
    "ax = sn.lineplot(range(300), means2, linestyle='', marker = \"o\", alpha = 0.5, label = \"exact_search\")\n",
    "ax.set(xlabel=\"index of nearest neighbor\", ylabel=\"P(same digit)\")\n",
    "ax.legend()\n",
    "ax.figure.savefig(\"is_same_digit.png\", dpi = 300)"
   ]
  },
  {
   "cell_type": "code",
   "execution_count": 127,
   "id": "cc0d8bd5",
   "metadata": {},
   "outputs": [
    {
     "data": {
      "text/plain": [
       "array([0.91830483, 0.89974826, 0.89077382, 0.87783378, 0.87089213,\n",
       "       0.86618868, 0.86132788, 0.859588  , 0.85225884, 0.84408217,\n",
       "       0.84913564, 0.84080556, 0.83707038, 0.83700609, 0.83612228,\n",
       "       0.83475252, 0.83049874, 0.82701516, 0.82825724, 0.82370765,\n",
       "       0.819749  , 0.81442103, 0.80995602, 0.80920534, 0.80512743,\n",
       "       0.80099896, 0.79541714, 0.79734296, 0.79491197, 0.78908655,\n",
       "       0.78466328, 0.7835878 , 0.78097897, 0.77006719, 0.77303957,\n",
       "       0.76428346, 0.76649797, 0.76254162, 0.76714663, 0.76046583,\n",
       "       0.76242969, 0.75421165, 0.75803855, 0.75240171, 0.7573126 ,\n",
       "       0.7492601 , 0.75011415, 0.75135894, 0.75060432, 0.74574297,\n",
       "       0.74377413, 0.73529793, 0.73525062, 0.73819571, 0.73296736,\n",
       "       0.73113403, 0.72970789, 0.71638178, 0.71042457, 0.69813421,\n",
       "       0.6939571 , 0.68338327, 0.68023215, 0.68006669, 0.66787931,\n",
       "       0.668194  , 0.66321954, 0.66575397, 0.664883  , 0.66152336,\n",
       "       0.65922508, 0.65471763, 0.65387877, 0.64368073, 0.6385521 ,\n",
       "       0.63465632, 0.62889467, 0.62887775, 0.63407737, 0.62383191,\n",
       "       0.62011619, 0.6195418 , 0.61617483, 0.61451498, 0.60384905,\n",
       "       0.59513409, 0.59035299, 0.58587338, 0.58763472, 0.5857489 ,\n",
       "       0.57229293, 0.56872555, 0.55661993, 0.5539847 , 0.5501951 ,\n",
       "       0.54821767, 0.54724565, 0.53027858, 0.52138525, 0.52102639,\n",
       "       0.52017905, 0.51007552, 0.50723232, 0.5039933 , 0.49890885,\n",
       "       0.49064693, 0.48074564, 0.47520404, 0.4705475 , 0.47148045,\n",
       "       0.46535291, 0.46911425, 0.46359825, 0.46168487, 0.44670901,\n",
       "       0.44081831, 0.43345695, 0.42645173, 0.4245358 , 0.42284409,\n",
       "       0.41083982, 0.41156115, 0.40838844, 0.40731257, 0.40735002,\n",
       "       0.40977359, 0.39298994, 0.39275739, 0.37899798, 0.3761914 ,\n",
       "       0.36989473, 0.37562827, 0.36975029, 0.3689984 , 0.36981274,\n",
       "       0.34820423, 0.34822014, 0.33716416, 0.33625796, 0.32871548,\n",
       "       0.33917997, 0.32265291, 0.32619192, 0.3201902 , 0.32363852,\n",
       "       0.32141855, 0.31795805, 0.30909495, 0.30571059, 0.30321002,\n",
       "       0.30208099, 0.29488977, 0.29544219, 0.27570289, 0.27233901,\n",
       "       0.26837677, 0.26158542, 0.25151323, 0.25274198, 0.24746074,\n",
       "       0.24006647, 0.23955009, 0.23788094, 0.23807596, 0.23751056,\n",
       "       0.23728911, 0.23682193, 0.2323078 , 0.22963788, 0.2307152 ,\n",
       "       0.22858943, 0.22941448, 0.23036949, 0.22858472, 0.22696178,\n",
       "       0.22829153, 0.2304546 , 0.22728658, 0.22616221, 0.22734255,\n",
       "       0.22557387, 0.21963935, 0.22132501, 0.21927318, 0.22086838,\n",
       "       0.21970155, 0.21903999, 0.21970586, 0.21867271, 0.21848131,\n",
       "       0.21811623, 0.20890741, 0.20893609, 0.20676161, 0.20797272,\n",
       "       0.20739813, 0.20678739, 0.20711967, 0.2071232 , 0.2069258 ,\n",
       "       0.20456523, 0.20512728, 0.20471462, 0.20271718, 0.1989193 ,\n",
       "       0.18577947, 0.18468031, 0.18484662, 0.17229947, 0.17024535,\n",
       "       0.16958684, 0.16996775, 0.16748928, 0.16953338, 0.16988532,\n",
       "       0.16849068, 0.16805799, 0.16989675, 0.15069299, 0.14932673,\n",
       "       0.14678199, 0.14892014, 0.1495714 , 0.14651384, 0.14502459,\n",
       "       0.14629612, 0.14506971, 0.14259267, 0.14196419, 0.14249857,\n",
       "       0.143787  , 0.14157525, 0.13776885, 0.13916646, 0.13859712,\n",
       "       0.13930023, 0.13770941, 0.13471411, 0.13414505, 0.13545314,\n",
       "       0.13521391, 0.13442345, 0.13463597, 0.13403375, 0.12761256,\n",
       "       0.12698958, 0.12358281, 0.12412111, 0.10077842, 0.10226633,\n",
       "       0.09783887, 0.09965729, 0.09845624, 0.09485536, 0.09580914,\n",
       "       0.09373752, 0.09189175, 0.09128376, 0.0932733 , 0.09446101,\n",
       "       0.09120013, 0.09638871, 0.08856527, 0.08846154, 0.08523909,\n",
       "       0.08866922, 0.08887498, 0.08711019, 0.08773367, 0.08855139,\n",
       "       0.08690207, 0.08825364, 0.08731766, 0.08814799, 0.08544699,\n",
       "       0.08700624, 0.08502852, 0.08627837, 0.08659022, 0.08627519,\n",
       "       0.08534304, 0.08377522, 0.0869949 , 0.08409404, 0.08647526,\n",
       "       0.08451143, 0.08471099, 0.08534175, 0.08481817, 0.08356754,\n",
       "       0.08387939, 0.08357567, 0.08118163, 0.08295197, 0.08212058,\n",
       "       0.08232667, 0.08409265, 0.08263883, 0.08160062, 0.080353  ])"
      ]
     },
     "execution_count": 127,
     "metadata": {},
     "output_type": "execute_result"
    }
   ],
   "source": [
    "means"
   ]
  },
  {
   "cell_type": "code",
   "execution_count": 219,
   "id": "3db1506f",
   "metadata": {},
   "outputs": [
    {
     "data": {
      "text/plain": [
       "SGDClassifier()"
      ]
     },
     "execution_count": 219,
     "metadata": {},
     "output_type": "execute_result"
    }
   ],
   "source": [
    "from sklearn.linear_model import Perceptron, SGDClassifier\n",
    "if X.max() > 2: \n",
    "    X = X/255.\n",
    "    \n",
    "perceptron = SGDClassifier()\n",
    "perceptron_noised = SGDClassifier()\n",
    "perceptron.fit(X[:2000], y[:2000])\n",
    "\n",
    "X_noised = X + np.random.randn(*X.shape)*0.05\n",
    "perceptron_noised.fit(X_noised[:2000], y[:2000])"
   ]
  },
  {
   "cell_type": "code",
   "execution_count": 220,
   "id": "2c6dd7fe",
   "metadata": {},
   "outputs": [
    {
     "data": {
      "text/plain": [
       "<AxesSubplot:>"
      ]
     },
     "execution_count": 220,
     "metadata": {},
     "output_type": "execute_result"
    },
    {
     "data": {
      "image/png": "[encoded data removed]",
      "text/plain": [
       "<Figure size 432x288 with 2 Axes>"
      ]
     },
     "metadata": {
      "needs_background": "light"
     },
     "output_type": "display_data"
    }
   ],
   "source": [
    "sn.heatmap(perceptron.coef_[2].reshape(28,28), cmap = \"gray\")"
   ]
  },
  {
   "cell_type": "code",
   "execution_count": 221,
   "id": "0c305edb",
   "metadata": {},
   "outputs": [
    {
     "data": {
      "text/plain": [
       "<AxesSubplot:>"
      ]
     },
     "execution_count": 221,
     "metadata": {},
     "output_type": "execute_result"
    },
    {
     "data": {
      "image/png": "[encoded data removed]",
      "text/plain": [
       "<Figure size 432x288 with 2 Axes>"
      ]
     },
     "metadata": {
      "needs_background": "light"
     },
     "output_type": "display_data"
    }
   ],
   "source": [
    "sn.heatmap(perceptron_noised.coef_[2].reshape(28,28), cmap = \"gray\")"
   ]
  },
  {
   "cell_type": "code",
   "execution_count": 196,
   "id": "497c223f",
   "metadata": {},
   "outputs": [
    {
     "data": {
      "text/plain": [
       "array([  0.,   0.,   0.,   0.,   0.,   0.,   0.,   0.,   0.,   0.,   0.,\n",
       "         0.,   0.,   0.,   0.,   0.,   0.,   0.,   0.,   0.,   0.,   0.,\n",
       "         0.,   0.,   0.,   0.,   0.,   0.,   0.,   0.,   0.,   0.,   0.,\n",
       "         0.,   0.,   0.,   0.,   0.,   0.,   0.,   0.,   0.,   0.,   0.,\n",
       "         0.,   0.,   0.,   0.,   0.,   0.,   0.,   0.,   0.,   0.,   0.,\n",
       "         0.,   0.,   0.,   0.,   0.,   0.,   0.,   0.,   0.,   0.,   0.,\n",
       "         0.,   0.,   0.,   0.,   0.,   0.,   0.,   0.,   0.,   0.,   0.,\n",
       "         0.,   0.,   0.,   0.,   0.,   0.,   0.,   0.,   0.,   0.,   0.,\n",
       "         0.,   0.,   0.,   0.,   0.,   0.,   0.,   0.,   0.,   0.,   0.,\n",
       "         0.,   0.,   0.,   0.,   0.,   0.,   0.,   0.,   0.,   0.,   0.,\n",
       "         0.,   0.,   0.,   0.,   0.,   0.,   0.,   0.,   0.,   0.,   0.,\n",
       "         0.,   0.,   0.,   0.,  89., 147., 147., 249., 230.,  59.,   2.,\n",
       "         0.,   0.,   0.,   0.,   0.,   0.,   0.,   0.,   0.,   0.,   0.,\n",
       "         0.,   0.,   0.,   0.,   0.,   0.,   0.,   0.,  15., 160., 249.,\n",
       "       254., 254., 254., 254., 254., 122.,   0.,   0.,   0.,   0.,   0.,\n",
       "         0.,   0.,   0.,   0.,   0.,   0.,   0.,   0.,   0.,   0.,   0.,\n",
       "         0.,   0.,   8., 188., 254., 254., 254., 250., 147., 166., 253.,\n",
       "       251., 120.,   0.,   0.,   0.,   0.,   0.,   0.,   0.,   0.,   0.,\n",
       "         0.,   0.,   0.,   0.,   0.,   0.,   0.,  14., 189., 254., 254.,\n",
       "       207., 103.,  22.,   0.,   0., 126., 253., 200.,   8.,   0.,   0.,\n",
       "         0.,   0.,   0.,   0.,   0.,   0.,   0.,   0.,   0.,   0.,   0.,\n",
       "         0.,   0., 163., 254., 254., 227.,  15.,   0.,   0.,   0.,   0.,\n",
       "         0., 245., 254.,  78.,   0.,   0.,   0.,   0.,   0.,   0.,   0.,\n",
       "         0.,   0.,   0.,   0.,   0.,   0.,   0.,  91., 248., 254., 227.,\n",
       "        43.,   0.,   0.,   0.,   0.,   0.,   0., 240., 254., 200.,   3.,\n",
       "         0.,   0.,   0.,   0.,   0.,   0.,   0.,   0.,   0.,   0.,   0.,\n",
       "         0.,   4., 216., 254., 254., 194., 158.,  34.,   0.,   0.,   0.,\n",
       "         0.,   0., 136., 254., 254.,   5.,   0.,   0.,   0.,   0.,   0.,\n",
       "         0.,   0.,   0.,   0.,   0.,   0.,   0.,   6., 254., 254., 254.,\n",
       "       254., 254., 129.,   0.,   0.,   0.,   0.,   0., 136., 254., 254.,\n",
       "         5.,   0.,   0.,   0.,   0.,   0.,   0.,   0.,   0.,   0.,   0.,\n",
       "         0.,   0.,  60., 254., 254., 254., 254., 122.,  11.,   0.,   0.,\n",
       "         0.,   0.,   0., 129., 254., 254.,   5.,   0.,   0.,   0.,   0.,\n",
       "         0.,   0.,   0.,   0.,   0.,   0.,   0.,   0., 115., 254., 254.,\n",
       "       254., 223.,  22.,   0.,   0.,   0.,   0.,   0.,   0.,  51., 254.,\n",
       "       254.,   5.,   0.,   0.,   0.,   0.,   0.,   0.,   0.,   0.,   0.,\n",
       "         0.,   0.,   0., 115., 254., 254., 254., 205.,   0.,   0.,   0.,\n",
       "         0.,   0.,   0.,   0., 136., 254., 254.,   5.,   0.,   0.,   0.,\n",
       "         0.,   0.,   0.,   0.,   0.,   0.,   0.,   0.,   0., 115., 254.,\n",
       "       254., 254., 252.,  56.,   0.,   0.,   0.,   0.,   0.,   0., 136.,\n",
       "       254., 254.,   5.,   0.,   0.,   0.,   0.,   0.,   0.,   0.,   0.,\n",
       "         0.,   0.,   0.,   0.,  89., 254., 254., 254., 254.,  59.,   0.,\n",
       "         0.,   0.,   0.,   0.,   0., 136., 254., 254.,   5.,   0.,   0.,\n",
       "         0.,   0.,   0.,   0.,   0.,   0.,   0.,   0.,   0.,   0.,   6.,\n",
       "       254., 254., 254., 254., 101.,   0.,   0.,   0.,   0.,   0.,   0.,\n",
       "       224., 254., 254.,   5.,   0.,   0.,   0.,   0.,   0.,   0.,   0.,\n",
       "         0.,   0.,   0.,   0.,   0.,   1.,  29., 220., 254., 254., 167.,\n",
       "         0.,   0.,   0.,   0.,   0.,  65., 250., 254., 199.,   3.,   0.,\n",
       "         0.,   0.,   0.,   0.,   0.,   0.,   0.,   0.,   0.,   0.,   0.,\n",
       "         0.,   0.,  61., 209., 254., 227.,  15.,   0.,   0.,   0.,  16.,\n",
       "       219., 254., 255.,  77.,   0.,   0.,   0.,   0.,   0.,   0.,   0.,\n",
       "         0.,   0.,   0.,   0.,   0.,   0.,   0.,   0.,   0., 120., 254.,\n",
       "       254., 155.,   0.,   0.,   9., 185., 254., 254., 200.,   8.,   0.,\n",
       "         0.,   0.,   0.,   0.,   0.,   0.,   0.,   0.,   0.,   0.,   0.,\n",
       "         0.,   0.,   0.,   0.,   7., 187., 254., 254., 180., 141., 244.,\n",
       "       254., 254., 251., 119.,   0.,   0.,   0.,   0.,   0.,   0.,   0.,\n",
       "         0.,   0.,   0.,   0.,   0.,   0.,   0.,   0.,   0.,   0.,   0.,\n",
       "        15., 183., 254., 254., 254., 254., 254., 227., 118.,   0.,   0.,\n",
       "         0.,   0.,   0.,   0.,   0.,   0.,   0.,   0.,   0.,   0.,   0.,\n",
       "         0.,   0.,   0.,   0.,   0.,   0.,   0.,  13.,  91., 215., 254.,\n",
       "       245., 121.,  23.,   0.,   0.,   0.,   0.,   0.,   0.,   0.,   0.,\n",
       "         0.,   0.,   0.,   0.,   0.,   0.,   0.,   0.,   0.,   0.,   0.,\n",
       "         0.,   0.,   0.,   0.,   0.,   0.,   0.,   0.,   0.,   0.,   0.,\n",
       "         0.,   0.,   0.,   0.,   0.,   0.,   0.,   0.,   0.,   0.,   0.,\n",
       "         0.,   0.,   0.,   0.,   0.,   0.,   0.,   0.,   0.,   0.,   0.,\n",
       "         0.,   0.,   0.,   0.,   0.,   0.,   0.,   0.,   0.,   0.,   0.,\n",
       "         0.,   0.,   0.,   0.,   0.,   0.,   0.,   0.,   0.,   0.,   0.,\n",
       "         0.,   0.,   0.,   0.,   0.,   0.,   0.,   0.,   0.,   0.,   0.,\n",
       "         0.,   0.,   0.,   0.,   0.,   0.,   0.,   0.,   0.,   0.,   0.,\n",
       "         0.,   0.,   0.,   0.,   0.,   0.,   0.,   0.,   0.,   0.,   0.,\n",
       "         0.,   0.,   0.,   0.,   0.,   0.,   0.,   0.,   0.,   0.,   0.,\n",
       "         0.,   0.,   0.])"
      ]
     },
     "execution_count": 196,
     "metadata": {},
     "output_type": "execute_result"
    }
   ],
   "source": [
    "X[0]"
   ]
  },
  {
   "cell_type": "code",
   "execution_count": null,
   "id": "3e52c86c",
   "metadata": {},
   "outputs": [],
   "source": []
  }
 ],
 "metadata": {
  "kernelspec": {
   "display_name": "Python 3 (ipykernel)",
   "language": "python",
   "name": "python3"
  },
  "language_info": {
   "codemirror_mode": {
    "name": "ipython",
    "version": 3
   },
   "file_extension": ".py",
   "mimetype": "text/x-python",
   "name": "python",
   "nbconvert_exporter": "python",
   "pygments_lexer": "ipython3",
   "version": "3.7.6"
  }
 },
 "nbformat": 4,
 "nbformat_minor": 5
}
